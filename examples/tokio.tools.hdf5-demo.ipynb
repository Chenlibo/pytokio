{
 "cells": [
  {
   "cell_type": "markdown",
   "metadata": {},
   "source": [
    "# tools.hdf5 Interface\n",
    "\n",
    "This notebook demonstrates the basic syntax for retrieving Lustre server-side data from LMT via the pytokio API."
   ]
  },
  {
   "cell_type": "code",
   "execution_count": null,
   "metadata": {
    "collapsed": false
   },
   "outputs": [],
   "source": [
    "%matplotlib inline"
   ]
  },
  {
   "cell_type": "code",
   "execution_count": null,
   "metadata": {
    "collapsed": true
   },
   "outputs": [],
   "source": [
    "import matplotlib\n",
    "matplotlib.rcParams.update({'font.size': 14})\n",
    "import datetime\n",
    "import tokio.tools"
   ]
  },
  {
   "cell_type": "markdown",
   "metadata": {},
   "source": [
    "## Define input time range\n",
    "\n",
    "`start_time` and `end_time` define the time range of interest.  Note that LMT stores data every five seconds, so requesting a large time range (e.g., multiple days) can result in very large query times and very slow plotting."
   ]
  },
  {
   "cell_type": "code",
   "execution_count": null,
   "metadata": {
    "collapsed": false
   },
   "outputs": [],
   "source": [
    "start_time = datetime.datetime(2017, 5, 17, 21, 35, 25)\n",
    "end_time = datetime.datetime(2017, 5, 18, 9, 35, 53)"
   ]
  },
  {
   "cell_type": "markdown",
   "metadata": {},
   "source": [
    "## Retrieve LMT data from HDF5\n",
    "\n",
    "The arguments for `tools.tokio.hdf5.get_dataframe_from_time_range` requires a bit of arcane knowledge.  Specifically:\n",
    "\n",
    "`file_name` can be:\n",
    "\n",
    "* `cori_snx11168.h5lmt` for cscratch\n",
    "* `edison_snx11025.h5lmt` for edison scratch1\n",
    "* `edison_snx11035.h5lmt` for edison scratch2\n",
    "* `edison_snx11036.h5lmt` for edison scratch3\n",
    "\n",
    "`group_name` can be:\n",
    "\n",
    "* `OSTReadGroup/OSTBulkReadDataSet` for read bytes/sec\n",
    "* `OSTWriteGroup/OSTBulkWriteDataSet` for write bytes/sec\n",
    "* `OSSCPUGroup/OSSCPUDataSet` for OST CPU loads (out of 100.0)\n",
    "* `MDSCPUGroup/MDSCPUDataSet` for MDS CPU loads (out of 100.0)"
   ]
  },
  {
   "cell_type": "code",
   "execution_count": null,
   "metadata": {
    "collapsed": false
   },
   "outputs": [],
   "source": [
    "result = tokio.tools.hdf5.get_dataframe_from_time_range(\n",
    "            file_name='cori_snx11168.h5lmt',\n",
    "            group_name='OSTReadGroup/OSTBulkReadDataSet',\n",
    "            datetime_start=start_time,\n",
    "            datetime_end=end_time)\n",
    "result.head()"
   ]
  },
  {
   "cell_type": "markdown",
   "metadata": {},
   "source": [
    "## Plot the OST Read Rates"
   ]
  },
  {
   "cell_type": "code",
   "execution_count": null,
   "metadata": {
    "collapsed": false,
    "scrolled": false
   },
   "outputs": [],
   "source": [
    "fig, ax = matplotlib.pyplot.subplots()\n",
    "fig.set_size_inches(10, 8)\n",
    "\n",
    "### Convert bytes/sec to GiB/sec\n",
    "(result / 2.0**30.0).plot.area(ax=ax)\n",
    "\n",
    "ax.grid(True)\n",
    "ax.legend_.remove()\n",
    "ax.set_ylabel(\"GiB/sec\")\n",
    "ax.set_xlabel(\"Time\")"
   ]
  },
  {
   "cell_type": "code",
   "execution_count": null,
   "metadata": {
    "collapsed": true
   },
   "outputs": [],
   "source": []
  }
 ],
 "metadata": {
  "kernelspec": {
   "display_name": "Python [mpl2]",
   "language": "python",
   "name": "Python [mpl2]"
  },
  "language_info": {
   "codemirror_mode": {
    "name": "ipython",
    "version": 2
   },
   "file_extension": ".py",
   "mimetype": "text/x-python",
   "name": "python",
   "nbconvert_exporter": "python",
   "pygments_lexer": "ipython2",
   "version": "2.7.13"
  }
 },
 "nbformat": 4,
 "nbformat_minor": 2
}
