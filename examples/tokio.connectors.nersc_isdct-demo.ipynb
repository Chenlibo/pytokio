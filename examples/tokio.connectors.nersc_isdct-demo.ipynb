{
 "cells": [
  {
   "cell_type": "markdown",
   "metadata": {},
   "source": [
    "# Intel® SSD Data Center Tool Connector\n",
    "\n",
    "This notebook demonstrates some of the quick analysis that can be done using the TOKIO connector for the Intel SSD Data Center Tool (ISDCT).  The format of the aggregated ISDCT outputs is specific to a tool developed at NERSC by David Paul and is therefore site-specific to NERSC, but the individual parsers for each ISDCT output file are generic."
   ]
  },
  {
   "cell_type": "code",
   "execution_count": null,
   "metadata": {
    "collapsed": false
   },
   "outputs": [],
   "source": [
    "%matplotlib inline"
   ]
  },
  {
   "cell_type": "code",
   "execution_count": null,
   "metadata": {
    "collapsed": true
   },
   "outputs": [],
   "source": [
    "import numpy as np\n",
    "\n",
    "import matplotlib\n",
    "matplotlib.rcParams.update({'font.size': 14})\n",
    "import matplotlib.pyplot as plt\n",
    "\n",
    "import tokio.connectors.nersc_isdct"
   ]
  },
  {
   "cell_type": "code",
   "execution_count": null,
   "metadata": {
    "collapsed": false
   },
   "outputs": [],
   "source": [
    "isdct_file = 'Intel_DCT_20170818.tgz'\n",
    "isdct_data = tokio.connectors.nersc_isdct.NerscIsdct(isdct_file)\n",
    "isdct_df = isdct_data.to_dataframe()"
   ]
  },
  {
   "cell_type": "markdown",
   "metadata": {},
   "source": [
    "## Distribution of Lifetime Read/Write Loads"
   ]
  },
  {
   "cell_type": "code",
   "execution_count": null,
   "metadata": {
    "collapsed": false
   },
   "outputs": [],
   "source": [
    "for rw, column in ('read','data_units_read_bytes'), ('write', 'data_units_written_bytes'):\n",
    "    fig, ax = matplotlib.pyplot.subplots()\n",
    "    fig.set_size_inches(10, 6)\n",
    "    fig.suptitle(\"%s Volume Distribution\" % rw.title())\n",
    "\n",
    "    ax.set_axisbelow(True)\n",
    "    ax.grid(True)\n",
    "    ax.set_xlabel(\"TiB %s\" % rw.title())\n",
    "    ax.set_ylabel(\"# SSDs\")\n",
    "    (isdct_df[column] / 2.0**40).hist(ax=ax, edgecolor='black')"
   ]
  },
  {
   "cell_type": "markdown",
   "metadata": {},
   "source": [
    "## Write Amplification Distribution"
   ]
  },
  {
   "cell_type": "code",
   "execution_count": null,
   "metadata": {
    "collapsed": false
   },
   "outputs": [],
   "source": [
    "fig, ax = matplotlib.pyplot.subplots()\n",
    "fig.set_size_inches(10, 6)\n",
    "fig.suptitle(\"WAF Distribution\")\n",
    "\n",
    "ax.set_axisbelow(True)\n",
    "ax.grid(True)\n",
    "ax.set_xlabel(\"Write Amplification Factor\")\n",
    "ax.set_ylabel(\"# SSDs\")\n",
    "isdct_df['write_amplification_factor'].hist(ax=ax, edgecolor='black')"
   ]
  },
  {
   "cell_type": "markdown",
   "metadata": {},
   "source": [
    "## Drive Writes per Day\n",
    "\n",
    "Remember that our Intel P3608 SSDs have a warranty of 5.0 drive writes per day when provisioned at 1.6 TB capacity."
   ]
  },
  {
   "cell_type": "code",
   "execution_count": null,
   "metadata": {
    "collapsed": false
   },
   "outputs": [],
   "source": [
    "fig, ax = matplotlib.pyplot.subplots()\n",
    "fig.set_size_inches(10, 6)\n",
    "fig.suptitle(\"DWPD Distribution\")\n",
    "\n",
    "ax.set_axisbelow(True)\n",
    "ax.grid(True)\n",
    "ax.set_xlabel(\"Drive Writes per Day\")\n",
    "ax.set_ylabel(\"# SSDs\")\n",
    "drive_writes = isdct_df['data_units_written_bytes'] / isdct_df['physical_size']\n",
    "dwpd = drive_writes / isdct_df['power_on_hours'] * 24.0\n",
    "dwpd.hist(ax=ax, edgecolor='black')"
   ]
  },
  {
   "cell_type": "markdown",
   "metadata": {},
   "source": [
    "## Correlation Scatter Plots"
   ]
  },
  {
   "cell_type": "code",
   "execution_count": null,
   "metadata": {
    "collapsed": true
   },
   "outputs": [],
   "source": [
    "scatter_plots = [\n",
    "    ('power_on_hours', 'data_units_written_bytes'),\n",
    "    ('power_on_hours', 'data_units_read_bytes'),\n",
    "    ('power_on_hours', 'write_amplification_factor'),\n",
    "    ('smart_pli_lock_loss_count_raw', 'write_amplification_factor'),\n",
    "]"
   ]
  },
  {
   "cell_type": "code",
   "execution_count": null,
   "metadata": {
    "collapsed": false
   },
   "outputs": [],
   "source": [
    "def scatter_and_fit_plot(df, x_key, y_key, fit=True):\n",
    "    fig, ax = matplotlib.pyplot.subplots()\n",
    "    fig.set_size_inches(10, 6)\n",
    "\n",
    "    x = df[x_key].values\n",
    "    y = df[y_key].values\n",
    "    ax.plot(x, y, 'o', alpha=0.5)\n",
    "\n",
    "    if fit:\n",
    "        ### attempt a linear fit to generate a visual aid\n",
    "        m, b = np.polyfit(x, y, 1)\n",
    "        ax.plot(x, m*x+b, \"-\")\n",
    "\n",
    "    ax.set_xlabel(x_key.replace('_', ' ').title())\n",
    "    ax.set_ylabel(y_key.replace('_', ' ').title())\n",
    "    plt.grid(True)"
   ]
  },
  {
   "cell_type": "code",
   "execution_count": null,
   "metadata": {
    "collapsed": false
   },
   "outputs": [],
   "source": [
    "for (x_key, y_key) in scatter_plots:\n",
    "    scatter_and_fit_plot(isdct_df, x_key, y_key)"
   ]
  },
  {
   "cell_type": "raw",
   "metadata": {},
   "source": [
    "## Identify faulty SSDs\n",
    "\n",
    "PLI lock losses are registered when an SSD detects a power loss situation, attempts to flush its DRAM caches, but is not able to fully commit all data to nonvolatile NAND before powering off.  This opens the possibility for inconsistent or lost data on the SSD, and too many instances of PLI lock loss on a single device indicate failing or faulty hardware."
   ]
  },
  {
   "cell_type": "code",
   "execution_count": null,
   "metadata": {
    "collapsed": false
   },
   "outputs": [],
   "source": [
    "pli_lock_losses = isdct_df[isdct_df['smart_pli_lock_loss_count_raw'] > 0]\n",
    "pli_lock_losses[['node_name', 'smart_pli_lock_loss_count_raw', 'power_on_hours']]\\\n",
    "    .sort_values('smart_pli_lock_loss_count_raw', ascending=False)"
   ]
  },
  {
   "cell_type": "code",
   "execution_count": null,
   "metadata": {
    "collapsed": false
   },
   "outputs": [],
   "source": [
    "x_key = 'power_on_hours'\n",
    "y_key = 'smart_pli_lock_loss_count_raw'\n",
    "fig, ax = matplotlib.pyplot.subplots()\n",
    "fig.set_size_inches(10, 6)\n",
    "\n",
    "ax.plot(isdct_df[x_key].values,\n",
    "        isdct_df[y_key].values,\n",
    "        marker='o',\n",
    "        linestyle='none',\n",
    "        alpha=0.5,\n",
    "        label=\"All SSDs\")\n",
    "ax.plot(pli_lock_losses[x_key],\n",
    "        pli_lock_losses[y_key],\n",
    "        marker='o',\n",
    "        linestyle='none',\n",
    "        alpha=0.5,\n",
    "        color='red',\n",
    "        markersize=10,\n",
    "        markerfacecolor='none',\n",
    "        label=\"Nonzero PLI Lock Loss\")\n",
    "\n",
    "ax.legend(loc='upper right')\n",
    "ax.set_xlabel(x_key.replace('_', ' ').title())\n",
    "ax.set_ylabel(y_key.replace('_', ' ').title())\n",
    "plt.grid(True)"
   ]
  }
 ],
 "metadata": {
  "anaconda-cloud": {},
  "kernelspec": {
   "display_name": "Python 2",
   "language": "python",
   "name": "python2"
  },
  "language_info": {
   "codemirror_mode": {
    "name": "ipython",
    "version": 2
   },
   "file_extension": ".py",
   "mimetype": "text/x-python",
   "name": "python",
   "nbconvert_exporter": "python",
   "pygments_lexer": "ipython2",
   "version": "2.7.13"
  }
 },
 "nbformat": 4,
 "nbformat_minor": 0
}
